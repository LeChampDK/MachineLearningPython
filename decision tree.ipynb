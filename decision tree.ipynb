{
 "cells": [
  {
   "cell_type": "code",
   "execution_count": 6,
   "metadata": {},
   "outputs": [],
   "source": [
    "# Import libraries \n",
    "\n",
    "import numpy as np # linear algebra\n",
    "import pandas as pd # data processing, \n",
    "\n",
    "# Libraries for data visualization\n",
    "import matplotlib.pyplot as pplt\n",
    "from pandas.plotting import scatter_matrix\n",
    "from sklearn.linear_model import LogisticRegression\n",
    "from sklearn.model_selection import train_test_split \n",
    "from sklearn.model_selection import KFold\n",
    "from sklearn.model_selection import cross_val_score\n",
    "from sklearn import metrics\n",
    "from sklearn import tree"
   ]
  },
  {
   "cell_type": "code",
   "execution_count": 7,
   "metadata": {},
   "outputs": [
    {
     "name": "stdout",
     "output_type": "stream",
     "text": [
      "<class 'pandas.core.frame.DataFrame'>\n",
      "RangeIndex: 32561 entries, 0 to 32560\n",
      "Data columns (total 15 columns):\n",
      " #   Column          Non-Null Count  Dtype \n",
      "---  ------          --------------  ----- \n",
      " 0   age             32561 non-null  int64 \n",
      " 1   workclass       32561 non-null  object\n",
      " 2   fnlwgt          32561 non-null  int64 \n",
      " 3   education       32561 non-null  object\n",
      " 4   education num   32561 non-null  int64 \n",
      " 5   marital status  32561 non-null  object\n",
      " 6   occupation      32561 non-null  object\n",
      " 7   relationship    32561 non-null  object\n",
      " 8   race            32561 non-null  object\n",
      " 9   sex             32561 non-null  object\n",
      " 10  capital gain    32561 non-null  int64 \n",
      " 11  capital loss    32561 non-null  int64 \n",
      " 12  hours per week  32561 non-null  int64 \n",
      " 13  native country  32561 non-null  object\n",
      " 14  income          32561 non-null  object\n",
      "dtypes: int64(6), object(9)\n",
      "memory usage: 3.7+ MB\n"
     ]
    },
    {
     "data": {
      "text/html": [
       "<div>\n",
       "<style scoped>\n",
       "    .dataframe tbody tr th:only-of-type {\n",
       "        vertical-align: middle;\n",
       "    }\n",
       "\n",
       "    .dataframe tbody tr th {\n",
       "        vertical-align: top;\n",
       "    }\n",
       "\n",
       "    .dataframe thead th {\n",
       "        text-align: right;\n",
       "    }\n",
       "</style>\n",
       "<table border=\"1\" class=\"dataframe\">\n",
       "  <thead>\n",
       "    <tr style=\"text-align: right;\">\n",
       "      <th></th>\n",
       "      <th>age</th>\n",
       "      <th>fnlwgt</th>\n",
       "      <th>education num</th>\n",
       "      <th>capital gain</th>\n",
       "      <th>capital loss</th>\n",
       "      <th>hours per week</th>\n",
       "    </tr>\n",
       "  </thead>\n",
       "  <tbody>\n",
       "    <tr>\n",
       "      <th>count</th>\n",
       "      <td>32561.000000</td>\n",
       "      <td>3.256100e+04</td>\n",
       "      <td>32561.000000</td>\n",
       "      <td>32561.000000</td>\n",
       "      <td>32561.000000</td>\n",
       "      <td>32561.000000</td>\n",
       "    </tr>\n",
       "    <tr>\n",
       "      <th>mean</th>\n",
       "      <td>38.581647</td>\n",
       "      <td>1.897784e+05</td>\n",
       "      <td>10.080679</td>\n",
       "      <td>1077.648844</td>\n",
       "      <td>87.303830</td>\n",
       "      <td>40.437456</td>\n",
       "    </tr>\n",
       "    <tr>\n",
       "      <th>std</th>\n",
       "      <td>13.640433</td>\n",
       "      <td>1.055500e+05</td>\n",
       "      <td>2.572720</td>\n",
       "      <td>7385.292085</td>\n",
       "      <td>402.960219</td>\n",
       "      <td>12.347429</td>\n",
       "    </tr>\n",
       "    <tr>\n",
       "      <th>min</th>\n",
       "      <td>17.000000</td>\n",
       "      <td>1.228500e+04</td>\n",
       "      <td>1.000000</td>\n",
       "      <td>0.000000</td>\n",
       "      <td>0.000000</td>\n",
       "      <td>1.000000</td>\n",
       "    </tr>\n",
       "    <tr>\n",
       "      <th>25%</th>\n",
       "      <td>28.000000</td>\n",
       "      <td>1.178270e+05</td>\n",
       "      <td>9.000000</td>\n",
       "      <td>0.000000</td>\n",
       "      <td>0.000000</td>\n",
       "      <td>40.000000</td>\n",
       "    </tr>\n",
       "    <tr>\n",
       "      <th>50%</th>\n",
       "      <td>37.000000</td>\n",
       "      <td>1.783560e+05</td>\n",
       "      <td>10.000000</td>\n",
       "      <td>0.000000</td>\n",
       "      <td>0.000000</td>\n",
       "      <td>40.000000</td>\n",
       "    </tr>\n",
       "    <tr>\n",
       "      <th>75%</th>\n",
       "      <td>48.000000</td>\n",
       "      <td>2.370510e+05</td>\n",
       "      <td>12.000000</td>\n",
       "      <td>0.000000</td>\n",
       "      <td>0.000000</td>\n",
       "      <td>45.000000</td>\n",
       "    </tr>\n",
       "    <tr>\n",
       "      <th>max</th>\n",
       "      <td>90.000000</td>\n",
       "      <td>1.484705e+06</td>\n",
       "      <td>16.000000</td>\n",
       "      <td>99999.000000</td>\n",
       "      <td>4356.000000</td>\n",
       "      <td>99.000000</td>\n",
       "    </tr>\n",
       "  </tbody>\n",
       "</table>\n",
       "</div>"
      ],
      "text/plain": [
       "                age        fnlwgt  education num  capital gain  capital loss  \\\n",
       "count  32561.000000  3.256100e+04   32561.000000  32561.000000  32561.000000   \n",
       "mean      38.581647  1.897784e+05      10.080679   1077.648844     87.303830   \n",
       "std       13.640433  1.055500e+05       2.572720   7385.292085    402.960219   \n",
       "min       17.000000  1.228500e+04       1.000000      0.000000      0.000000   \n",
       "25%       28.000000  1.178270e+05       9.000000      0.000000      0.000000   \n",
       "50%       37.000000  1.783560e+05      10.000000      0.000000      0.000000   \n",
       "75%       48.000000  2.370510e+05      12.000000      0.000000      0.000000   \n",
       "max       90.000000  1.484705e+06      16.000000  99999.000000   4356.000000   \n",
       "\n",
       "       hours per week  \n",
       "count    32561.000000  \n",
       "mean        40.437456  \n",
       "std         12.347429  \n",
       "min          1.000000  \n",
       "25%         40.000000  \n",
       "50%         40.000000  \n",
       "75%         45.000000  \n",
       "max         99.000000  "
      ]
     },
     "execution_count": 7,
     "metadata": {},
     "output_type": "execute_result"
    }
   ],
   "source": [
    "# Load dataset\n",
    "df = pd.read_csv('adult.data', header=None)\n",
    "\n",
    "dataset = df\n",
    "\n",
    "# Assign column names with no special characters\n",
    "df.columns = ['age', 'workclass', 'fnlwgt', 'education', 'education num', 'marital status', 'occupation', 'relationship', 'race', 'sex', 'capital gain', 'capital loss', 'hours per week', 'native country', 'income']\n",
    "\n",
    "# Info dataset\n",
    "df.info()\n",
    "\n",
    "# Describe dataset\n",
    "df.describe()"
   ]
  },
  {
   "cell_type": "code",
   "execution_count": 8,
   "metadata": {},
   "outputs": [],
   "source": [
    "# Remove invalid data - removes about 2399 rows\n",
    "df = df[(df.astype(str) != ' ?').all(axis=1)]\n",
    "\n"
   ]
  },
  {
   "cell_type": "code",
   "execution_count": 9,
   "metadata": {},
   "outputs": [
    {
     "name": "stderr",
     "output_type": "stream",
     "text": [
      "C:\\Users\\Rizvan\\AppData\\Local\\Temp\\ipykernel_119672\\2849715957.py:2: SettingWithCopyWarning: \n",
      "A value is trying to be set on a copy of a slice from a DataFrame.\n",
      "Try using .loc[row_indexer,col_indexer] = value instead\n",
      "\n",
      "See the caveats in the documentation: https://pandas.pydata.org/pandas-docs/stable/user_guide/indexing.html#returning-a-view-versus-a-copy\n",
      "  df['income_bi'] = df.apply(lambda row: 1 if '>50K'in row['income'] else 0, axis=1)\n"
     ]
    }
   ],
   "source": [
    "# New binary value for income, since it is more than or less 50k\n",
    "df['income_bi'] = df.apply(lambda row: 1 if '>50K'in row['income'] else 0, axis=1)\n",
    "\n",
    "# Remove redundant columns\n",
    "df = df.drop(['income','fnlwgt','capital gain','capital loss','native country'], axis=1)"
   ]
  },
  {
   "cell_type": "code",
   "execution_count": 10,
   "metadata": {},
   "outputs": [],
   "source": [
    "# Use one-hot encoding on categorial columns\n",
    "df = pd.get_dummies(df, columns=['workclass', 'education', 'marital status', 'occupation', 'relationship', 'race', 'sex'])"
   ]
  },
  {
   "cell_type": "markdown",
   "metadata": {},
   "source": [
    "# Decision Tree Model"
   ]
  },
  {
   "cell_type": "code",
   "execution_count": 12,
   "metadata": {},
   "outputs": [
    {
     "name": "stdout",
     "output_type": "stream",
     "text": [
      "Income >50K: 7508 out of 30162 (24.89%)\n"
     ]
    }
   ],
   "source": [
    "# shuffle rows\n",
    "df = df.sample(frac=1)\n",
    "# split training and testing data\n",
    "d_train = df[:25000]\n",
    "d_test = df[25000:]\n",
    "d_train_att = d_train.drop(['income_bi'], axis=1)\n",
    "d_train_gt50 = d_train['income_bi']\n",
    "d_test_att = d_test.drop(['income_bi'], axis=1)\n",
    "d_test_gt50 = d_test['income_bi']\n",
    "d_att = df.drop(['income_bi'], axis=1)\n",
    "d_gt50 = df['income_bi']\n",
    "\n",
    "print(\"Income >50K: %d out of %d (%.2f%%)\" % (np.sum(d_gt50), len(d_gt50), 100*float(np.sum(d_gt50)) / len(d_gt50)))\n",
    "# Output: 24,89% people with salary higher than 50K per year"
   ]
  },
  {
   "cell_type": "code",
   "execution_count": 13,
   "metadata": {},
   "outputs": [],
   "source": [
    "# Fit a decision tree\n",
    "t = tree.DecisionTreeClassifier(criterion='entropy', max_depth=7)\n",
    "t = t.fit(d_train_att, d_train_gt50)"
   ]
  },
  {
   "cell_type": "code",
   "execution_count": 14,
   "metadata": {},
   "outputs": [
    {
     "data": {
      "text/plain": [
       "0.8299108872530027"
      ]
     },
     "execution_count": 14,
     "metadata": {},
     "output_type": "execute_result"
    }
   ],
   "source": [
    "t.score(d_test_att, d_test_gt50)"
   ]
  },
  {
   "cell_type": "markdown",
   "metadata": {},
   "source": [
    "# Prediction"
   ]
  },
  {
   "cell_type": "code",
   "execution_count": 15,
   "metadata": {},
   "outputs": [],
   "source": [
    "# Create a sample csv for prediction\n",
    "df.iloc[[0]].to_csv('prediction.csv', sep=',', encoding='utf-8', index=False)"
   ]
  },
  {
   "cell_type": "code",
   "execution_count": 16,
   "metadata": {},
   "outputs": [
    {
     "name": "stderr",
     "output_type": "stream",
     "text": [
      "C:\\Users\\Rizvan\\AppData\\Roaming\\Python\\Python310\\site-packages\\sklearn\\base.py:450: UserWarning: X does not have valid feature names, but DecisionTreeClassifier was fitted with feature names\n",
      "  warnings.warn(\n"
     ]
    },
    {
     "data": {
      "text/plain": [
       "0"
      ]
     },
     "execution_count": 16,
     "metadata": {},
     "output_type": "execute_result"
    }
   ],
   "source": [
    "# Prepare user profile\n",
    "sample_df = pd.read_csv('prediction.csv', sep=',')\n",
    "sample_df = sample_df.drop(['income_bi'], axis=1)\n",
    "# Start predicting \n",
    "predict_value = sample_df.iloc[0]\n",
    "y_predict = t.predict([predict_value.tolist()])\n",
    "y_predict[0] #0"
   ]
  },
  {
   "cell_type": "code",
   "execution_count": 17,
   "metadata": {},
   "outputs": [
    {
     "name": "stdout",
     "output_type": "stream",
     "text": [
      "Max depth: 1, Accuracy: 0.75 (+/- 0.00)\n",
      "Max depth: 2, Accuracy: 0.82 (+/- 0.01)\n",
      "Max depth: 3, Accuracy: 0.81 (+/- 0.01)\n",
      "Max depth: 4, Accuracy: 0.81 (+/- 0.01)\n",
      "Max depth: 5, Accuracy: 0.82 (+/- 0.01)\n",
      "Max depth: 6, Accuracy: 0.82 (+/- 0.01)\n",
      "Max depth: 7, Accuracy: 0.83 (+/- 0.01)\n",
      "Max depth: 8, Accuracy: 0.83 (+/- 0.01)\n",
      "Max depth: 9, Accuracy: 0.83 (+/- 0.01)\n",
      "Max depth: 10, Accuracy: 0.82 (+/- 0.00)\n",
      "Max depth: 11, Accuracy: 0.82 (+/- 0.00)\n",
      "Max depth: 12, Accuracy: 0.82 (+/- 0.01)\n",
      "Max depth: 13, Accuracy: 0.82 (+/- 0.01)\n",
      "Max depth: 14, Accuracy: 0.81 (+/- 0.01)\n",
      "Max depth: 15, Accuracy: 0.81 (+/- 0.01)\n",
      "Max depth: 16, Accuracy: 0.81 (+/- 0.01)\n",
      "Max depth: 17, Accuracy: 0.80 (+/- 0.01)\n",
      "Max depth: 18, Accuracy: 0.80 (+/- 0.01)\n",
      "Max depth: 19, Accuracy: 0.80 (+/- 0.01)\n"
     ]
    }
   ],
   "source": [
    "for max_depth in range(1, 20):\n",
    "    t = tree.DecisionTreeClassifier(criterion='entropy', max_depth=max_depth)\n",
    "    scores = cross_val_score(t, d_att, d_gt50, cv=5)\n",
    "    print(\"Max depth: %d, Accuracy: %0.2f (+/- %0.2f)\" % (max_depth, scores.mean(), scores.std()*2))"
   ]
  }
 ],
 "metadata": {
  "kernelspec": {
   "display_name": "Python 3.10.0 64-bit",
   "language": "python",
   "name": "python3"
  },
  "language_info": {
   "codemirror_mode": {
    "name": "ipython",
    "version": 3
   },
   "file_extension": ".py",
   "mimetype": "text/x-python",
   "name": "python",
   "nbconvert_exporter": "python",
   "pygments_lexer": "ipython3",
   "version": "3.10.0"
  },
  "orig_nbformat": 4,
  "vscode": {
   "interpreter": {
    "hash": "369f2c481f4da34e4445cda3fffd2e751bd1c4d706f27375911949ba6bb62e1c"
   }
  }
 },
 "nbformat": 4,
 "nbformat_minor": 2
}
