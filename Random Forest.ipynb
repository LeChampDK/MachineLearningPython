{
 "cells": [
  {
   "cell_type": "code",
   "execution_count": 1,
   "metadata": {},
   "outputs": [],
   "source": [
    "#import libraries\n",
    "import pandas as pd\n",
    "import numpy as np\n"
   ]
  },
  {
   "cell_type": "code",
   "execution_count": 2,
   "metadata": {},
   "outputs": [],
   "source": [
    "\n",
    "# read in the data\n",
    "data = pd.read_csv('adult.data', header=None)\n"
   ]
  },
  {
   "cell_type": "code",
   "execution_count": 3,
   "metadata": {},
   "outputs": [],
   "source": [
    "\n",
    "# assign column names\n",
    "data.columns = ['age', 'workclass', 'fnlwgt', 'education', 'education-num', 'marital-status', 'occupation', 'relationship', 'race', 'sex', 'capital-gain', 'capital-loss', 'hours-per-week', 'native-country', 'salary']\n"
   ]
  },
  {
   "cell_type": "code",
   "execution_count": 4,
   "metadata": {},
   "outputs": [],
   "source": [
    "# remove rows with missing values\n",
    "data = data[(data.astype(str) != ' ?').all(axis=1)]\n",
    "\n",
    "\n",
    "# Change the salary column to binary data instead of boolean conditions\n",
    "data['salary_bi'] = data.apply(lambda row: 1 if '>50K'in row['salary'] else 0, axis=1)\n",
    "data = data.drop(['salary', 'education', 'native-country', 'fnlwgt'], axis=1)\n",
    "\n",
    "\n",
    "\n",
    "#data_num = data.drop(['workclass', 'education', 'marital-status', 'occupation', 'relationship', 'race', 'sex', 'native-country'], axis=1)"
   ]
  },
  {
   "cell_type": "code",
   "execution_count": 5,
   "metadata": {},
   "outputs": [],
   "source": [
    "\n",
    "# convert discrete variables to dummy variables\n",
    "data = pd.get_dummies(data, columns=['workclass', 'marital-status', 'occupation', 'relationship', 'race', 'sex'])"
   ]
  },
  {
   "cell_type": "code",
   "execution_count": 6,
   "metadata": {},
   "outputs": [],
   "source": [
    "\n",
    "# normalize numerical variables\n",
    "data['age'] = (data['age'] - data['age'].min()) / (data['age'].max() - data['age'].min())\n",
    "data['education-num'] = (data['education-num'] - data['education-num'].min()) / (data['education-num'].max() - data['education-num'].min())\n",
    "data['capital-gain'] = (data['capital-gain'] - data['capital-gain'].min()) / (data['capital-gain'].max() - data['capital-gain'].min())\n",
    "data['capital-loss'] = (data['capital-loss'] - data['capital-loss'].min()) / (data['capital-loss'].max() - data['capital-loss'].min())\n",
    "data['hours-per-week'] = (data['hours-per-week'] - data['hours-per-week'].min()) / (data['hours-per-week'].max() - data['hours-per-week'].min())\n",
    "\n"
   ]
  },
  {
   "cell_type": "code",
   "execution_count": 7,
   "metadata": {},
   "outputs": [
    {
     "data": {
      "text/plain": [
       "salary_bi                                1.000000\n",
       "marital-status_ Married-civ-spouse       0.445418\n",
       "relationship_ Husband                    0.401236\n",
       "education-num                            0.335286\n",
       "age                                      0.241998\n",
       "hours-per-week                           0.229480\n",
       "capital-gain                             0.221196\n",
       "sex_ Male                                0.216699\n",
       "occupation_ Exec-managerial              0.213442\n",
       "occupation_ Prof-specialty               0.181458\n",
       "capital-loss                             0.150053\n",
       "workclass_ Self-emp-inc                  0.137646\n",
       "relationship_ Wife                       0.125126\n",
       "race_ White                              0.084735\n",
       "workclass_ Federal-gov                   0.057394\n",
       "workclass_ Local-gov                     0.028673\n",
       "occupation_ Protective-serv              0.026360\n",
       "workclass_ Self-emp-not-inc              0.025575\n",
       "occupation_ Tech-support                 0.022829\n",
       "occupation_ Sales                        0.018450\n",
       "marital-status_ Married-AF-spouse        0.013874\n",
       "race_ Asian-Pac-Islander                 0.011394\n",
       "workclass_ State-gov                     0.009752\n",
       "occupation_ Armed-Forces                -0.005506\n",
       "workclass_ Without-pay                  -0.012406\n",
       "occupation_ Craft-repair                -0.021445\n",
       "occupation_ Transport-moving            -0.024944\n",
       "race_ Amer-Indian-Eskimo                -0.029426\n",
       "race_ Other                             -0.032104\n",
       "occupation_ Priv-house-serv             -0.038618\n",
       "marital-status_ Married-spouse-absent   -0.042562\n",
       "occupation_ Farming-fishing             -0.056483\n",
       "marital-status_ Widowed                 -0.059097\n",
       "marital-status_ Separated               -0.074056\n",
       "occupation_ Machine-op-inspct           -0.075912\n",
       "relationship_ Other-relative            -0.084457\n",
       "race_ Black                             -0.088332\n",
       "occupation_ Handlers-cleaners           -0.093836\n",
       "occupation_ Adm-clerical                -0.099849\n",
       "workclass_ Private                      -0.117218\n",
       "marital-status_ Divorced                -0.132030\n",
       "relationship_ Unmarried                 -0.145799\n",
       "occupation_ Other-service               -0.165934\n",
       "relationship_ Not-in-family             -0.193258\n",
       "sex_ Female                             -0.216699\n",
       "relationship_ Own-child                 -0.226186\n",
       "marital-status_ Never-married           -0.320053\n",
       "Name: salary_bi, dtype: float64"
      ]
     },
     "execution_count": 7,
     "metadata": {},
     "output_type": "execute_result"
    }
   ],
   "source": [
    "corr_matrix = data.corr()\n",
    "\n",
    "corr_matrix['salary_bi'].sort_values(ascending=False)"
   ]
  },
  {
   "cell_type": "code",
   "execution_count": 8,
   "metadata": {},
   "outputs": [],
   "source": [
    "\n",
    "# split data into features and target\n",
    "X = data.drop(columns='salary_bi')\n",
    "y = data['salary_bi']"
   ]
  },
  {
   "cell_type": "code",
   "execution_count": 9,
   "metadata": {},
   "outputs": [],
   "source": [
    "from sklearn.model_selection import train_test_split\n",
    "\n",
    "X_train, X_test, y_train, y_test = train_test_split(X, y, test_size=0.2, random_state=42)"
   ]
  },
  {
   "cell_type": "code",
   "execution_count": 10,
   "metadata": {},
   "outputs": [
    {
     "data": {
      "text/html": [
       "<style>#sk-container-id-1 {color: black;background-color: white;}#sk-container-id-1 pre{padding: 0;}#sk-container-id-1 div.sk-toggleable {background-color: white;}#sk-container-id-1 label.sk-toggleable__label {cursor: pointer;display: block;width: 100%;margin-bottom: 0;padding: 0.3em;box-sizing: border-box;text-align: center;}#sk-container-id-1 label.sk-toggleable__label-arrow:before {content: \"▸\";float: left;margin-right: 0.25em;color: #696969;}#sk-container-id-1 label.sk-toggleable__label-arrow:hover:before {color: black;}#sk-container-id-1 div.sk-estimator:hover label.sk-toggleable__label-arrow:before {color: black;}#sk-container-id-1 div.sk-toggleable__content {max-height: 0;max-width: 0;overflow: hidden;text-align: left;background-color: #f0f8ff;}#sk-container-id-1 div.sk-toggleable__content pre {margin: 0.2em;color: black;border-radius: 0.25em;background-color: #f0f8ff;}#sk-container-id-1 input.sk-toggleable__control:checked~div.sk-toggleable__content {max-height: 200px;max-width: 100%;overflow: auto;}#sk-container-id-1 input.sk-toggleable__control:checked~label.sk-toggleable__label-arrow:before {content: \"▾\";}#sk-container-id-1 div.sk-estimator input.sk-toggleable__control:checked~label.sk-toggleable__label {background-color: #d4ebff;}#sk-container-id-1 div.sk-label input.sk-toggleable__control:checked~label.sk-toggleable__label {background-color: #d4ebff;}#sk-container-id-1 input.sk-hidden--visually {border: 0;clip: rect(1px 1px 1px 1px);clip: rect(1px, 1px, 1px, 1px);height: 1px;margin: -1px;overflow: hidden;padding: 0;position: absolute;width: 1px;}#sk-container-id-1 div.sk-estimator {font-family: monospace;background-color: #f0f8ff;border: 1px dotted black;border-radius: 0.25em;box-sizing: border-box;margin-bottom: 0.5em;}#sk-container-id-1 div.sk-estimator:hover {background-color: #d4ebff;}#sk-container-id-1 div.sk-parallel-item::after {content: \"\";width: 100%;border-bottom: 1px solid gray;flex-grow: 1;}#sk-container-id-1 div.sk-label:hover label.sk-toggleable__label {background-color: #d4ebff;}#sk-container-id-1 div.sk-serial::before {content: \"\";position: absolute;border-left: 1px solid gray;box-sizing: border-box;top: 0;bottom: 0;left: 50%;z-index: 0;}#sk-container-id-1 div.sk-serial {display: flex;flex-direction: column;align-items: center;background-color: white;padding-right: 0.2em;padding-left: 0.2em;position: relative;}#sk-container-id-1 div.sk-item {position: relative;z-index: 1;}#sk-container-id-1 div.sk-parallel {display: flex;align-items: stretch;justify-content: center;background-color: white;position: relative;}#sk-container-id-1 div.sk-item::before, #sk-container-id-1 div.sk-parallel-item::before {content: \"\";position: absolute;border-left: 1px solid gray;box-sizing: border-box;top: 0;bottom: 0;left: 50%;z-index: -1;}#sk-container-id-1 div.sk-parallel-item {display: flex;flex-direction: column;z-index: 1;position: relative;background-color: white;}#sk-container-id-1 div.sk-parallel-item:first-child::after {align-self: flex-end;width: 50%;}#sk-container-id-1 div.sk-parallel-item:last-child::after {align-self: flex-start;width: 50%;}#sk-container-id-1 div.sk-parallel-item:only-child::after {width: 0;}#sk-container-id-1 div.sk-dashed-wrapped {border: 1px dashed gray;margin: 0 0.4em 0.5em 0.4em;box-sizing: border-box;padding-bottom: 0.4em;background-color: white;}#sk-container-id-1 div.sk-label label {font-family: monospace;font-weight: bold;display: inline-block;line-height: 1.2em;}#sk-container-id-1 div.sk-label-container {text-align: center;}#sk-container-id-1 div.sk-container {/* jupyter's `normalize.less` sets `[hidden] { display: none; }` but bootstrap.min.css set `[hidden] { display: none !important; }` so we also need the `!important` here to be able to override the default hidden behavior on the sphinx rendered scikit-learn.org. See: https://github.com/scikit-learn/scikit-learn/issues/21755 */display: inline-block !important;position: relative;}#sk-container-id-1 div.sk-text-repr-fallback {display: none;}</style><div id=\"sk-container-id-1\" class=\"sk-top-container\"><div class=\"sk-text-repr-fallback\"><pre>VotingClassifier(estimators=[(&#x27;bag&#x27;,\n",
       "                              BaggingClassifier(estimator=DecisionTreeClassifier(max_depth=16),\n",
       "                                                n_estimators=200, n_jobs=-1,\n",
       "                                                random_state=42)),\n",
       "                             (&#x27;rnd&#x27;,\n",
       "                              RandomForestClassifier(max_depth=16,\n",
       "                                                     n_estimators=200,\n",
       "                                                     n_jobs=-1,\n",
       "                                                     random_state=42)),\n",
       "                             (&#x27;svc&#x27;, SVC(random_state=42)),\n",
       "                             (&#x27;log&#x27;,\n",
       "                              LogisticRegression(max_iter=1000,\n",
       "                                                 random_state=42)),\n",
       "                             (&#x27;ext&#x27;,\n",
       "                              ExtraTreesClassifier(bootstrap=True, max_depth=16,\n",
       "                                                   n_estimators=200, n_jobs=-1,\n",
       "                                                   random_state=42))])</pre><b>In a Jupyter environment, please rerun this cell to show the HTML representation or trust the notebook. <br />On GitHub, the HTML representation is unable to render, please try loading this page with nbviewer.org.</b></div><div class=\"sk-container\" hidden><div class=\"sk-item sk-dashed-wrapped\"><div class=\"sk-label-container\"><div class=\"sk-label sk-toggleable\"><input class=\"sk-toggleable__control sk-hidden--visually\" id=\"sk-estimator-id-1\" type=\"checkbox\" ><label for=\"sk-estimator-id-1\" class=\"sk-toggleable__label sk-toggleable__label-arrow\">VotingClassifier</label><div class=\"sk-toggleable__content\"><pre>VotingClassifier(estimators=[(&#x27;bag&#x27;,\n",
       "                              BaggingClassifier(estimator=DecisionTreeClassifier(max_depth=16),\n",
       "                                                n_estimators=200, n_jobs=-1,\n",
       "                                                random_state=42)),\n",
       "                             (&#x27;rnd&#x27;,\n",
       "                              RandomForestClassifier(max_depth=16,\n",
       "                                                     n_estimators=200,\n",
       "                                                     n_jobs=-1,\n",
       "                                                     random_state=42)),\n",
       "                             (&#x27;svc&#x27;, SVC(random_state=42)),\n",
       "                             (&#x27;log&#x27;,\n",
       "                              LogisticRegression(max_iter=1000,\n",
       "                                                 random_state=42)),\n",
       "                             (&#x27;ext&#x27;,\n",
       "                              ExtraTreesClassifier(bootstrap=True, max_depth=16,\n",
       "                                                   n_estimators=200, n_jobs=-1,\n",
       "                                                   random_state=42))])</pre></div></div></div><div class=\"sk-parallel\"><div class=\"sk-parallel-item\"><div class=\"sk-item\"><div class=\"sk-label-container\"><div class=\"sk-label sk-toggleable\"><label>bag</label></div></div><div class=\"sk-serial\"><div class=\"sk-item sk-dashed-wrapped\"><div class=\"sk-parallel\"><div class=\"sk-parallel-item\"><div class=\"sk-item\"><div class=\"sk-label-container\"><div class=\"sk-label sk-toggleable\"><input class=\"sk-toggleable__control sk-hidden--visually\" id=\"sk-estimator-id-2\" type=\"checkbox\" ><label for=\"sk-estimator-id-2\" class=\"sk-toggleable__label sk-toggleable__label-arrow\">estimator: DecisionTreeClassifier</label><div class=\"sk-toggleable__content\"><pre>DecisionTreeClassifier(max_depth=16)</pre></div></div></div><div class=\"sk-serial\"><div class=\"sk-item\"><div class=\"sk-estimator sk-toggleable\"><input class=\"sk-toggleable__control sk-hidden--visually\" id=\"sk-estimator-id-3\" type=\"checkbox\" ><label for=\"sk-estimator-id-3\" class=\"sk-toggleable__label sk-toggleable__label-arrow\">DecisionTreeClassifier</label><div class=\"sk-toggleable__content\"><pre>DecisionTreeClassifier(max_depth=16)</pre></div></div></div></div></div></div></div></div></div></div></div><div class=\"sk-parallel-item\"><div class=\"sk-item\"><div class=\"sk-label-container\"><div class=\"sk-label sk-toggleable\"><label>rnd</label></div></div><div class=\"sk-serial\"><div class=\"sk-item\"><div class=\"sk-estimator sk-toggleable\"><input class=\"sk-toggleable__control sk-hidden--visually\" id=\"sk-estimator-id-4\" type=\"checkbox\" ><label for=\"sk-estimator-id-4\" class=\"sk-toggleable__label sk-toggleable__label-arrow\">RandomForestClassifier</label><div class=\"sk-toggleable__content\"><pre>RandomForestClassifier(max_depth=16, n_estimators=200, n_jobs=-1,\n",
       "                       random_state=42)</pre></div></div></div></div></div></div><div class=\"sk-parallel-item\"><div class=\"sk-item\"><div class=\"sk-label-container\"><div class=\"sk-label sk-toggleable\"><label>svc</label></div></div><div class=\"sk-serial\"><div class=\"sk-item\"><div class=\"sk-estimator sk-toggleable\"><input class=\"sk-toggleable__control sk-hidden--visually\" id=\"sk-estimator-id-5\" type=\"checkbox\" ><label for=\"sk-estimator-id-5\" class=\"sk-toggleable__label sk-toggleable__label-arrow\">SVC</label><div class=\"sk-toggleable__content\"><pre>SVC(random_state=42)</pre></div></div></div></div></div></div><div class=\"sk-parallel-item\"><div class=\"sk-item\"><div class=\"sk-label-container\"><div class=\"sk-label sk-toggleable\"><label>log</label></div></div><div class=\"sk-serial\"><div class=\"sk-item\"><div class=\"sk-estimator sk-toggleable\"><input class=\"sk-toggleable__control sk-hidden--visually\" id=\"sk-estimator-id-6\" type=\"checkbox\" ><label for=\"sk-estimator-id-6\" class=\"sk-toggleable__label sk-toggleable__label-arrow\">LogisticRegression</label><div class=\"sk-toggleable__content\"><pre>LogisticRegression(max_iter=1000, random_state=42)</pre></div></div></div></div></div></div><div class=\"sk-parallel-item\"><div class=\"sk-item\"><div class=\"sk-label-container\"><div class=\"sk-label sk-toggleable\"><label>ext</label></div></div><div class=\"sk-serial\"><div class=\"sk-item\"><div class=\"sk-estimator sk-toggleable\"><input class=\"sk-toggleable__control sk-hidden--visually\" id=\"sk-estimator-id-7\" type=\"checkbox\" ><label for=\"sk-estimator-id-7\" class=\"sk-toggleable__label sk-toggleable__label-arrow\">ExtraTreesClassifier</label><div class=\"sk-toggleable__content\"><pre>ExtraTreesClassifier(bootstrap=True, max_depth=16, n_estimators=200, n_jobs=-1,\n",
       "                     random_state=42)</pre></div></div></div></div></div></div></div></div></div></div>"
      ],
      "text/plain": [
       "VotingClassifier(estimators=[('bag',\n",
       "                              BaggingClassifier(estimator=DecisionTreeClassifier(max_depth=16),\n",
       "                                                n_estimators=200, n_jobs=-1,\n",
       "                                                random_state=42)),\n",
       "                             ('rnd',\n",
       "                              RandomForestClassifier(max_depth=16,\n",
       "                                                     n_estimators=200,\n",
       "                                                     n_jobs=-1,\n",
       "                                                     random_state=42)),\n",
       "                             ('svc', SVC(random_state=42)),\n",
       "                             ('log',\n",
       "                              LogisticRegression(max_iter=1000,\n",
       "                                                 random_state=42)),\n",
       "                             ('ext',\n",
       "                              ExtraTreesClassifier(bootstrap=True, max_depth=16,\n",
       "                                                   n_estimators=200, n_jobs=-1,\n",
       "                                                   random_state=42))])"
      ]
     },
     "execution_count": 10,
     "metadata": {},
     "output_type": "execute_result"
    }
   ],
   "source": [
    "from sklearn.ensemble import RandomForestClassifier\n",
    "from sklearn.ensemble import BaggingClassifier\n",
    "from sklearn.ensemble import VotingClassifier\n",
    "from sklearn.ensemble import ExtraTreesClassifier\n",
    "from sklearn.svm import SVC\n",
    "from sklearn.linear_model import LogisticRegression\n",
    "from sklearn.tree import DecisionTreeClassifier\n",
    "\n",
    "bag_clf = BaggingClassifier(DecisionTreeClassifier(max_depth=16), n_estimators=200, bootstrap=True, n_jobs=-1, random_state=42)\n",
    "rnd_clf = RandomForestClassifier(n_estimators=200, max_depth=16, bootstrap=True, n_jobs=-1, random_state=42)\n",
    "ext_clf = ExtraTreesClassifier(n_estimators=200, max_depth=16, bootstrap=True, n_jobs=-1, random_state=42)\n",
    "svm_clf = SVC(random_state=42)\n",
    "log_clf = LogisticRegression(max_iter=1000, random_state=42)\n",
    "\n",
    "voting_clf = VotingClassifier(\n",
    "    estimators=[('bag', bag_clf), ('rnd', rnd_clf), ('svc', svm_clf), ('log', log_clf), ('ext', ext_clf)],\n",
    "    voting='hard'\n",
    ")\n",
    "\n",
    "voting_clf.fit(X_train, y_train)\n"
   ]
  },
  {
   "cell_type": "code",
   "execution_count": 11,
   "metadata": {},
   "outputs": [
    {
     "name": "stdout",
     "output_type": "stream",
     "text": [
      "BaggingClassifier 0.8639151334327864\n",
      "RandomForestClassifier 0.8612630532073595\n",
      "SVC 0.8340792308967346\n",
      "LogisticRegression 0.8506547323056523\n",
      "ExtraTreesClassifier 0.8461793469252444\n",
      "VotingClassifier 0.8529753025029008\n"
     ]
    }
   ],
   "source": [
    "from sklearn.metrics import accuracy_score\n",
    "\n",
    "for clf in (bag_clf, rnd_clf, svm_clf, log_clf, ext_clf, voting_clf):\n",
    "    clf.fit(X_train, y_train)\n",
    "    y_pred = clf.predict(X_test)\n",
    "    print(clf.__class__.__name__, accuracy_score(y_test, y_pred))"
   ]
  },
  {
   "cell_type": "code",
   "execution_count": 12,
   "metadata": {},
   "outputs": [],
   "source": [
    "#from sklearn.metrics import mean_squared_error\n",
    "\n",
    "#data_predictions = rnd_clf.predict(X)\n",
    "#tree_mse = mean_squared_error(y, data_predictions)\n",
    "#tree_rmse = np.square(tree_mse)\n",
    "#tree_rmse"
   ]
  },
  {
   "cell_type": "code",
   "execution_count": 13,
   "metadata": {},
   "outputs": [],
   "source": [
    "#from sklearn.model_selection import GridSearchCV\n",
    "\n",
    "#params = {'max_depth': list(range(2, 6)), 'max_leaf_nodes': list(range(2, 10)), 'min_samples_split': [20, 40, 60]}\n",
    "#grid_search_cv = GridSearchCV(RandomForestClassifier(random_state=42), params, cv=3)\n",
    "\n",
    "#grid_search_cv.fit(X_train, y_train)"
   ]
  }
 ],
 "metadata": {
  "kernelspec": {
   "display_name": "Python 3",
   "language": "python",
   "name": "python3"
  },
  "language_info": {
   "codemirror_mode": {
    "name": "ipython",
    "version": 3
   },
   "file_extension": ".py",
   "mimetype": "text/x-python",
   "name": "python",
   "nbconvert_exporter": "python",
   "pygments_lexer": "ipython3",
   "version": "3.10.9"
  },
  "orig_nbformat": 4,
  "vscode": {
   "interpreter": {
    "hash": "b2de35d3ab777a5d499ba13a4089e088f0598e257efe8a85cc4d8deecab20ac6"
   }
  }
 },
 "nbformat": 4,
 "nbformat_minor": 2
}
